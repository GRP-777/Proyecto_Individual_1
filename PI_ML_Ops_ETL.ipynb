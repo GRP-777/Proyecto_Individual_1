{
 "cells": [
  {
   "cell_type": "markdown",
   "metadata": {},
   "source": [
    "Se intalan librerías que quizá no se tengan con anterioridad"
   ]
  },
  {
   "cell_type": "code",
   "execution_count": 12,
   "metadata": {},
   "outputs": [],
   "source": [
    "#!pip install pandas --upgrade\n",
    "#!pip install nltk\n",
    "#!pip install scikit-learn"
   ]
  },
  {
   "cell_type": "markdown",
   "metadata": {},
   "source": [
    "Se importan las bibliotecas que se usarán"
   ]
  },
  {
   "cell_type": "code",
   "execution_count": 1,
   "metadata": {},
   "outputs": [],
   "source": [
    "import pandas as pd\n",
    "import numpy as np\n",
    "import json\n",
    "import ast\n",
    "import matplotlib\n",
    "from sklearn.neighbors import KNeighborsClassifier\n",
    "from sklearn.preprocessing import LabelEncoder\n"
   ]
  },
  {
   "cell_type": "markdown",
   "metadata": {},
   "source": [
    "Se converten los 3 datasets en dataframes, primero se desanida todo el código porque vienen en una lista en formato .json"
   ]
  },
  {
   "cell_type": "code",
   "execution_count": null,
   "metadata": {},
   "outputs": [],
   "source": [
    "\n",
    "juegos = [] \n",
    "\n",
    "with open('output_steam_games.json') as file:\n",
    "    for line in file: \n",
    "        data = json.loads(line)\n",
    "        juegos.append(data)\n",
    "\n",
    "\n",
    "df_juegos = pd.DataFrame(juegos)\n",
    "df_juegos\n",
    "\n"
   ]
  },
  {
   "cell_type": "code",
   "execution_count": null,
   "metadata": {},
   "outputs": [],
   "source": [
    "\n",
    "resenias = []\n",
    "with open('australian_user_reviews.json', 'r', encoding = 'utf-8') as file:\n",
    "    for line in file.readlines():\n",
    "        resenias.append(ast.literal_eval(line))\n",
    "\n",
    "df_reviews = pd.DataFrame(resenias)\n",
    "\n",
    "dfresenias = df_reviews \n"
   ]
  },
  {
   "cell_type": "code",
   "execution_count": null,
   "metadata": {},
   "outputs": [],
   "source": [
    "items = []\n",
    "with open('australian_users_items.json', 'r', encoding = 'utf-8') as file:\n",
    "    for line in file.readlines():\n",
    "        items.append(ast.literal_eval(line))\n",
    "\n",
    "df_items = pd.DataFrame(items)\n",
    "\n",
    "dfitems = df_items\n"
   ]
  },
  {
   "cell_type": "markdown",
   "metadata": {},
   "source": [
    "Se normalizan los dataframes\n",
    "\n",
    "- Se explotan las columnas anidadas para dividirlas en múltiples columnas y se unen al dataframe original\n"
   ]
  },
  {
   "cell_type": "code",
   "execution_count": null,
   "metadata": {},
   "outputs": [],
   "source": [
    "\n",
    "dfresenias_exploded = dfresenias.explode('reviews')\n",
    "dfresenias_normalized = pd.json_normalize(dfresenias_exploded['reviews'])\n",
    "dfresenias_exploded.reset_index(drop=True, inplace=True)\n",
    "dfresenias_normalized.reset_index(drop=True, inplace=True)\n",
    "\n",
    "dfresenias_final= pd.concat([dfresenias_exploded.drop('reviews', axis=1), dfresenias_normalized], axis=1)\n"
   ]
  },
  {
   "cell_type": "code",
   "execution_count": null,
   "metadata": {},
   "outputs": [],
   "source": [
    "dfitems_exploded = dfitems.explode('items')\n",
    "dfitems_normalized = pd.json_normalize(dfitems_exploded['items'])\n",
    "dfitems_exploded.reset_index(drop=True, inplace=True)\n",
    "dfitems_normalized.reset_index(drop=True, inplace=True)\n",
    "\n",
    "dfitems_final= pd.concat([dfitems.drop('items', axis=1), dfitems_normalized], axis=1)"
   ]
  },
  {
   "cell_type": "code",
   "execution_count": null,
   "metadata": {},
   "outputs": [],
   "source": [
    "juegos_exploded = juegos.explode('items')\n",
    "juegos_normalized = pd.json_normalize(juegos_exploded['items'])\n",
    "juegos_exploded.reset_index(drop=True, inplace=True)\n",
    "juegos_normalized.reset_index(drop=True, inplace=True)\n",
    "\n",
    "df_juegos_final= pd.concat([juegos.drop('items', axis=1), juegos_normalized], axis=1)"
   ]
  },
  {
   "cell_type": "code",
   "execution_count": null,
   "metadata": {},
   "outputs": [
    {
     "data": {
      "text/plain": [
       "Index(['publisher', 'genres', 'app_name', 'title', 'url', 'release_date',\n",
       "       'tags', 'reviews_url', 'discount_price', 'specs', 'price',\n",
       "       'early_access', 'id', 'metascore', 'developer', 'user_id', 'steam_id',\n",
       "       'items_count', 'item_id', 'item_name', 'playtime_forever',\n",
       "       'playtime_2weeks'],\n",
       "      dtype='object')"
      ]
     },
     "execution_count": 6,
     "metadata": {},
     "output_type": "execute_result"
    }
   ],
   "source": [
    "df_juegos_final.columns"
   ]
  },
  {
   "cell_type": "code",
   "execution_count": null,
   "metadata": {},
   "outputs": [
    {
     "data": {
      "text/plain": [
       "(5202150, 22)"
      ]
     },
     "execution_count": 12,
     "metadata": {},
     "output_type": "execute_result"
    }
   ],
   "source": [
    "df_juegos_final.shape"
   ]
  },
  {
   "cell_type": "markdown",
   "metadata": {},
   "source": [
    "Se guardan los datasets provisionales y se escribe el código para leerlo"
   ]
  },
  {
   "cell_type": "code",
   "execution_count": null,
   "metadata": {},
   "outputs": [],
   "source": [
    "#df_juegos_final.to_csv('df_juegos_final.csv')\n",
    "#dfitems_final.to_csv('dfitems_final.csv')\n",
    "#dfresenias_final.to_csv('dfresenias_final.csv')\n"
   ]
  },
  {
   "cell_type": "code",
   "execution_count": null,
   "metadata": {},
   "outputs": [],
   "source": [
    "#df_juegos_final = pd.read_csv('df_juegos_final.csv')\n",
    "#dfitems_final = pd.read_csv('dfitems_final.csv')\n",
    "#dfresenias_final = pd.read_csv('dfresenias_final.csv')"
   ]
  },
  {
   "cell_type": "markdown",
   "metadata": {},
   "source": [
    "Se trabaja un dataset especial para las funciones 1 y 2\n",
    "- Se limpian las columnas que se utilizarán para no lidiar con NaN, se transforma el tipo de dato de fechas para que sea manejable"
   ]
  },
  {
   "cell_type": "code",
   "execution_count": null,
   "metadata": {},
   "outputs": [],
   "source": [
    "funcion1 = df_juegos_final.dropna(subset=['genres', 'release_date', 'id'])"
   ]
  },
  {
   "cell_type": "code",
   "execution_count": null,
   "metadata": {},
   "outputs": [],
   "source": [
    "#df_juegos_final.drop(columns=['publisher'], inplace=True)\n",
    "#df_juegos_final.drop(columns=['app_name'], inplace=True)\n",
    "#df_juegos_final.drop(columns=['discount_price'], inplace=True)\n",
    "#df_juegos_final.drop(columns=['tags'], inplace=True)\n",
    "#df_juegos_final.drop(columns=['early_access'], inplace=True)\n",
    "#df_juegos_final.drop(columns=['specs'], inplace=True)\n",
    "#df_juegos_final.drop(columns=['price'], inplace=True)\n",
    "#df_juegos_final.drop(columns=['metascore'], inplace=True)\n",
    "#df_juegos_final.drop(columns=['developer'], inplace=True)\n",
    "#df_juegos_final.drop(columns=['items_count'], inplace=True)\n",
    "#df_juegos_final.drop(columns=['reviews_url'], inplace=True)\n",
    "#df_juegos_final.drop(columns=['title'], inplace=True)\n",
    "#df_juegos_final.drop(columns=['url'], inplace=True)\n",
    "#df_juegos_final.drop(columns=['item_id'], inplace=True)\n",
    "#df_juegos_final.drop(columns=['playtime_2weeks'], inplace=True)\n",
    "#df_juegos_final.drop(columns=['steam_id'], inplace=True)\n",
    "#df_juegos_final.drop(columns=['Unnamed: 0'], inplace=True)"
   ]
  },
  {
   "cell_type": "code",
   "execution_count": null,
   "metadata": {},
   "outputs": [],
   "source": [
    "funcion1['release_date'] = pd.to_datetime(funcion1['release_date'], errors='coerce')"
   ]
  },
  {
   "cell_type": "code",
   "execution_count": null,
   "metadata": {},
   "outputs": [],
   "source": [
    "release_date_dtype = funcion1['release_date'].dtype\n",
    "\n",
    "# Print the datatype\n",
    "print(release_date_dtype)"
   ]
  },
  {
   "cell_type": "code",
   "execution_count": null,
   "metadata": {},
   "outputs": [],
   "source": [
    "funcion1.head(1)"
   ]
  },
  {
   "cell_type": "code",
   "execution_count": null,
   "metadata": {},
   "outputs": [],
   "source": [
    "df_f1_2 = funcion1"
   ]
  },
  {
   "cell_type": "markdown",
   "metadata": {},
   "source": [
    "Función 1 \n",
    "-  Indicación: def PlayTimeGenre(genero:str): Debe devolver año con mas horas jugadas para dicho género. Ejemplo de retorno: {\"Año con más horas jugadas para Género X\" : 2013}"
   ]
  },
  {
   "cell_type": "code",
   "execution_count": null,
   "metadata": {},
   "outputs": [],
   "source": [
    "def PlayTimeGenre(genero):\n",
    "    genero = genero.lower()\n",
    "    genero = genero.capitalize()\n",
    "    df_f1_2['release_date'] = pd.to_datetime(df_f1_2['release_date'], errors='coerce')\n",
    "    max_horas_ano = None\n",
    "    max_horas = 0\n",
    "    horas_por_ano = {}\n",
    "    \n",
    "    for index, row in df_f1_2.iterrows():\n",
    "        if genero in row['genres']:\n",
    "            # Obtener el año de la fecha de lanzamiento\n",
    "            year = row['release_date'].year\n",
    "            \n",
    "            # Sumar las horas jugadas\n",
    "            horas_jugadas = row['playtime_forever']\n",
    "            \n",
    "            if year not in horas_por_ano:\n",
    "                horas_por_ano[year] = 0\n",
    "                \n",
    "            horas_por_ano[year] += horas_jugadas\n",
    "            \n",
    "            if horas_por_ano[year] > max_horas:\n",
    "                max_horas = horas_por_ano[year]\n",
    "                max_horas_ano = year\n",
    "    res = {\n",
    "    \"Año con más horas\": max_horas_ano,\"Total de horas sumadas\": max_horas\n",
    "    }\n",
    "            \n",
    "    return res\n"
   ]
  },
  {
   "cell_type": "code",
   "execution_count": null,
   "metadata": {},
   "outputs": [
    {
     "data": {
      "text/plain": [
       "{'Año con más horas': 2016, 'Total de horas sumadas': 1825857.0}"
      ]
     },
     "execution_count": 95,
     "metadata": {},
     "output_type": "execute_result"
    }
   ],
   "source": [
    "PlayTimeGenre('Action')"
   ]
  },
  {
   "cell_type": "code",
   "execution_count": null,
   "metadata": {},
   "outputs": [
    {
     "name": "stdout",
     "output_type": "stream",
     "text": [
      "['Action', 'Casual', 'Indie', 'Simulation', 'Strategy', 'Free to Play', 'RPG', 'Sports', 'Adventure', 'Racing', 'Massively Multiplayer', 'Early Access', 'Animation &amp; Modeling', 'Video Production', 'Web Publishing', 'Education', 'Software Training', 'Utilities', 'Design &amp; Illustration', 'Audio Production', 'Photo Editing', 'Accounting']\n"
     ]
    }
   ],
   "source": [
    "def GetUniqueGenres(funcion1):\n",
    "    \"\"\"\n",
    "    Devuelve una lista con los géneros únicos de la columna `genres`.\n",
    "\n",
    "    Args:\n",
    "        funcion_1: El DataFrame que contiene la columna `genres`.\n",
    "\n",
    "    Returns:\n",
    "        Una lista con los géneros únicos.\n",
    "    \"\"\"\n",
    "\n",
    "    # Inicializar la variable unique_genres\n",
    "    unique_genres = []\n",
    "\n",
    "    # Iterar sobre las filas del DataFrame\n",
    "    for row in funcion1.itertuples():\n",
    "        # Obtener la lista de géneros de cada fila\n",
    "        genres = row.genres\n",
    "\n",
    "        # Iterar sobre los géneros de cada fila\n",
    "        for genero in genres:\n",
    "            # Agregar el género a la lista de géneros únicos\n",
    "            if genero not in unique_genres:\n",
    "                unique_genres.append(genero)\n",
    "\n",
    "    return unique_genres\n",
    "\n",
    "\n",
    "unique_genres = GetUniqueGenres(funcion_1)\n",
    "\n",
    "print(unique_genres)\n"
   ]
  },
  {
   "cell_type": "markdown",
   "metadata": {},
   "source": [
    "Segunda función\n",
    "- Indicaciones:  def UserForGenre(genero:str): Debe devolver el usuario que acumula más horas jugadas para el género dado y una lista de la acumulación de horas jugadas por año. Ejemplo de retorno: {\"Usuario con más horas jugadas para Género X\" : us213ndjss09sdf, \"Horas jugadas\":[{Año: 2013, Horas: 203}, {Año: 2012, Horas: 100}, {Año: 2011, Horas: 23}]}"
   ]
  },
  {
   "cell_type": "code",
   "execution_count": null,
   "metadata": {},
   "outputs": [],
   "source": [
    "def UserForGenre(genero):\n",
    "    genero = genero.lower()\n",
    "    genero = genero.capitalize()\n",
    "    df_f1_2['release_date'] = pd.to_datetime(df_f1_2['release_date'], errors='coerce')\n",
    "    max_horas_ano = None\n",
    "    max_horas = 0\n",
    "    max_user = None  # Nuevo: mantener un registro del usuario con más horas jugadas\n",
    "    horas_por_ano = {}\n",
    "    \n",
    "    for index, row in df_f1_2.iterrows():\n",
    "        if genero in row['genres']:\n",
    "            # Obtener el año de la fecha de lanzamiento\n",
    "            year = row['release_date'].year\n",
    "            \n",
    "            # Sumar las horas jugadas\n",
    "            horas_jugadas = row['playtime_forever']\n",
    "            \n",
    "            if year not in horas_por_ano:\n",
    "                horas_por_ano[year] = 0\n",
    "                \n",
    "            horas_por_ano[year] += horas_jugadas\n",
    "            \n",
    "            if horas_por_ano[year] > max_horas:\n",
    "                max_horas = horas_por_ano[year]\n",
    "                max_horas_ano = year\n",
    "                max_user = row['id']\n",
    "    \n",
    "    res = {\n",
    "        \"Año con más horas\": max_horas_ano,\n",
    "        \"Total de horas sumadas\": max_horas,\n",
    "        \"Usuario con más horas jugadas para Género X\": max_user \n",
    "    }\n",
    "            \n",
    "    return res\n"
   ]
  },
  {
   "cell_type": "code",
   "execution_count": null,
   "metadata": {},
   "outputs": [
    {
     "data": {
      "text/plain": [
       "{'Año con más horas': 2014,\n",
       " 'Total de horas sumadas': 1022261.0,\n",
       " 'Usuario con más horas jugadas para Género X': 261410}"
      ]
     },
     "execution_count": 5,
     "metadata": {},
     "output_type": "execute_result"
    }
   ],
   "source": [
    "UserForGenre('Casual')"
   ]
  },
  {
   "cell_type": "markdown",
   "metadata": {},
   "source": [
    "Previo a las funciones 3 y 4, comenzamos con la limpieza del dataframe de reseñas"
   ]
  },
  {
   "cell_type": "code",
   "execution_count": null,
   "metadata": {},
   "outputs": [],
   "source": [
    "dfresenias_final = dfresenias"
   ]
  },
  {
   "cell_type": "code",
   "execution_count": null,
   "metadata": {},
   "outputs": [
    {
     "data": {
      "text/html": [
       "<div>\n",
       "<style scoped>\n",
       "    .dataframe tbody tr th:only-of-type {\n",
       "        vertical-align: middle;\n",
       "    }\n",
       "\n",
       "    .dataframe tbody tr th {\n",
       "        vertical-align: top;\n",
       "    }\n",
       "\n",
       "    .dataframe thead th {\n",
       "        text-align: right;\n",
       "    }\n",
       "</style>\n",
       "<table border=\"1\" class=\"dataframe\">\n",
       "  <thead>\n",
       "    <tr style=\"text-align: right;\">\n",
       "      <th></th>\n",
       "      <th>user_id</th>\n",
       "      <th>posted</th>\n",
       "      <th>item_id</th>\n",
       "      <th>recommend</th>\n",
       "      <th>review</th>\n",
       "    </tr>\n",
       "  </thead>\n",
       "  <tbody>\n",
       "    <tr>\n",
       "      <th>0</th>\n",
       "      <td>76561197970982479</td>\n",
       "      <td>Posted November 5, 2011.</td>\n",
       "      <td>1250</td>\n",
       "      <td>True</td>\n",
       "      <td>Simple yet with great replayability. In my opi...</td>\n",
       "    </tr>\n",
       "  </tbody>\n",
       "</table>\n",
       "</div>"
      ],
      "text/plain": [
       "             user_id                    posted item_id recommend  \\\n",
       "0  76561197970982479  Posted November 5, 2011.    1250      True   \n",
       "\n",
       "                                              review  \n",
       "0  Simple yet with great replayability. In my opi...  "
      ]
     },
     "execution_count": 27,
     "metadata": {},
     "output_type": "execute_result"
    }
   ],
   "source": [
    "dfresenias_final.head(1)"
   ]
  },
  {
   "cell_type": "code",
   "execution_count": null,
   "metadata": {},
   "outputs": [
    {
     "data": {
      "text/plain": [
       "(59305, 5)"
      ]
     },
     "execution_count": 28,
     "metadata": {},
     "output_type": "execute_result"
    }
   ],
   "source": [
    "dfresenias_final.shape"
   ]
  },
  {
   "cell_type": "code",
   "execution_count": null,
   "metadata": {},
   "outputs": [
    {
     "name": "stdout",
     "output_type": "stream",
     "text": [
      "Number of null values in user_id: 0\n",
      "Number of null values in posted: 0\n",
      "Number of null values in item_id: 0\n",
      "Number of null values in recommend: 0\n",
      "Number of null values in review: 0\n"
     ]
    }
   ],
   "source": [
    "null_id = dfresenias_final['user_id'].isna().sum()\n",
    "null_posted = dfresenias_final['posted'].isna().sum()\n",
    "null_item_id = dfresenias_final['item_id'].isna().sum()\n",
    "null_recommend = dfresenias_final['recommend'].isna().sum()\n",
    "null_recommend = dfresenias_final['review'].isna().sum()\n",
    "\n",
    "print(f'Number of null values in user_id: {null_id}')\n",
    "print(f'Number of null values in posted: {null_posted}')\n",
    "print(f'Number of null values in item_id: {null_item_id}')\n",
    "print(f'Number of null values in recommend: {null_recommend}')\n",
    "print(f'Number of null values in review: {null_recommend}')"
   ]
  },
  {
   "cell_type": "code",
   "execution_count": null,
   "metadata": {},
   "outputs": [],
   "source": [
    "dfresenias_final.drop(columns=['last_edited'], inplace=True)\n",
    "dfresenias_final.drop(columns=['user_url'], inplace=True)\n",
    "dfresenias_final.drop(columns=['Unnamed: 0'], inplace=True)\n",
    "dfresenias_final.drop(columns=['helpful'], inplace=True)\n",
    "dfresenias_final.drop(columns=['funny'], inplace=True)"
   ]
  },
  {
   "cell_type": "code",
   "execution_count": null,
   "metadata": {},
   "outputs": [],
   "source": [
    "#Estas son las columnas que se utilizarán\n",
    "dfresenias_final = dfresenias_final.dropna(subset=['posted', 'item_id', 'recommend', 'review'])\n"
   ]
  },
  {
   "cell_type": "code",
   "execution_count": null,
   "metadata": {},
   "outputs": [],
   "source": [
    "#Se analiza el contenido de algunas columnas\n",
    "\n",
    "unique_values = dfresenias_final['funny'].unique()\n",
    "\n",
    "with open('unique_values.txt', 'w') as file:\n",
    "    for value in unique_values:\n",
    "        file.write(f\"{value}\\n\")"
   ]
  },
  {
   "cell_type": "code",
   "execution_count": null,
   "metadata": {},
   "outputs": [],
   "source": [
    "\n",
    "def keep_last_5_characters(df, column_name):\n",
    "    dfresenias_final['posted'] = dfresenias_final['posted'].str[-5:]\n",
    "    return dfresenias\n"
   ]
  },
  {
   "cell_type": "code",
   "execution_count": null,
   "metadata": {},
   "outputs": [],
   "source": [
    "dfresenias['posted'] = dfresenias['posted'].astype(int)\n"
   ]
  },
  {
   "cell_type": "code",
   "execution_count": null,
   "metadata": {},
   "outputs": [],
   "source": [
    "dfresenias_final.to_csv('dfresenias_final.csv')"
   ]
  },
  {
   "cell_type": "code",
   "execution_count": null,
   "metadata": {},
   "outputs": [],
   "source": [
    "dfresenias_final = pd.read_csv('dfresenias_final.csv')"
   ]
  },
  {
   "cell_type": "markdown",
   "metadata": {},
   "source": [
    "Vamos con la limpieza del dataframe de items"
   ]
  },
  {
   "cell_type": "code",
   "execution_count": null,
   "metadata": {},
   "outputs": [],
   "source": [
    "dfitems_final.drop(columns=['playtime_2weeks'], inplace=True)\n",
    "dfitems_final.drop(columns=['steam_id'], inplace=True)\n",
    "dfitems_final.drop(columns=['items_count'], inplace=True)\n",
    "dfitems_final.drop(columns=['user_url'], inplace=True)\n",
    "dfitems_final.drop(columns=['Unnamed: 0'], inplace=True)\n",
    "dfitems_final.drop(columns=['playtime_forever'], inplace=True)\n",
    "dfitems_final.drop(columns=['user_id'], inplace=True)\n",
    "dfresenias_final.drop(columns=['review'], inplace=True)"
   ]
  },
  {
   "cell_type": "code",
   "execution_count": null,
   "metadata": {},
   "outputs": [],
   "source": []
  },
  {
   "cell_type": "code",
   "execution_count": null,
   "metadata": {},
   "outputs": [
    {
     "data": {
      "text/plain": [
       "Index(['user_id', 'item_id', 'item_name'], dtype='object')"
      ]
     },
     "execution_count": 22,
     "metadata": {},
     "output_type": "execute_result"
    }
   ],
   "source": [
    "dfitems_final.columns"
   ]
  },
  {
   "cell_type": "code",
   "execution_count": null,
   "metadata": {},
   "outputs": [
    {
     "data": {
      "text/plain": [
       "item_id      0\n",
       "item_name    0\n",
       "dtype: int64"
      ]
     },
     "execution_count": 35,
     "metadata": {},
     "output_type": "execute_result"
    }
   ],
   "source": [
    "nan_count_per_column = dfitems_final.isna().sum()\n",
    "nan_count_per_column"
   ]
  },
  {
   "cell_type": "code",
   "execution_count": null,
   "metadata": {},
   "outputs": [
    {
     "data": {
      "text/plain": [
       "(5153209, 2)"
      ]
     },
     "execution_count": 34,
     "metadata": {},
     "output_type": "execute_result"
    }
   ],
   "source": [
    "dfitems_final.shape"
   ]
  },
  {
   "cell_type": "code",
   "execution_count": null,
   "metadata": {},
   "outputs": [],
   "source": [
    "dfitems_final = dfitems_final.dropna(subset=['item_id'])"
   ]
  },
  {
   "cell_type": "code",
   "execution_count": null,
   "metadata": {},
   "outputs": [],
   "source": [
    "dfitems_final['item_id'] = dfitems_final['item_id'].astype(int)"
   ]
  },
  {
   "cell_type": "code",
   "execution_count": null,
   "metadata": {},
   "outputs": [
    {
     "data": {
      "text/plain": [
       "10947"
      ]
     },
     "execution_count": 39,
     "metadata": {},
     "output_type": "execute_result"
    }
   ],
   "source": [
    "unique_item_count = dfitems_final['item_name'].nunique()\n",
    "unique_item_count"
   ]
  },
  {
   "cell_type": "code",
   "execution_count": null,
   "metadata": {},
   "outputs": [],
   "source": [
    "dfitems_final.drop_duplicates(subset=['item_id'], inplace=True)\n"
   ]
  },
  {
   "cell_type": "markdown",
   "metadata": {},
   "source": [
    "Combinamos los datasets de items y de reseñas, pues le de items contiene los nombres de los juegos. Se usará el mismo dataset para ambas funciones, 3 y 4"
   ]
  },
  {
   "cell_type": "code",
   "execution_count": null,
   "metadata": {},
   "outputs": [],
   "source": [
    "merged_df = pd.merge(dfresenias_final, dfitems_final, on='item_id', how='left')"
   ]
  },
  {
   "cell_type": "code",
   "execution_count": null,
   "metadata": {},
   "outputs": [],
   "source": [
    "df_f3_4 = merged_df "
   ]
  },
  {
   "cell_type": "markdown",
   "metadata": {},
   "source": [
    "Tercera función\n",
    "- def UsersRecommend(año:int): Devuelve el top 3 de juegos MÁS recomendados por usuarios para el año dado. (reviews.recommend = True y comentarios positivos/neutrales). Ejemplo de retorno: [{\"Puesto 1\" : X}, {\"Puesto 2\" : Y},{\"Puesto 3\" : Z}]"
   ]
  },
  {
   "cell_type": "code",
   "execution_count": null,
   "metadata": {},
   "outputs": [],
   "source": [
    "def UsersRecommend(year: int):\n",
    "    # Verificar si el año es igual a -1 y mostrar un mensaje personalizado\n",
    "    if year == -1:\n",
    "        return \"El año ingresado es -1, lo cual no es válido.\"\n",
    "\n",
    "    # Verificar que el año sea un número entero\n",
    "    if not isinstance(year, int):\n",
    "        return \"El año debe ser un número entero.\"\n",
    "\n",
    "    # Verificar que el año ingresado esté en la columna 'year_integer'\n",
    "    if year not in df_f3_4['year_integer'].unique():\n",
    "        return \"El año no se encuentra en la columna 'year_integer'.\"\n",
    "\n",
    "    # Filtrar el dataset para obtener solo las filas correspondientes al año dado\n",
    "    juegos_del_año = df_f3_4[df_f3_4['year_integer'] == year]\n",
    "\n",
    "    # Calcular la cantidad de recomendaciones para cada juego\n",
    "    recomendaciones_por_juego = juegos_del_año.groupby('item_name')['recommend'].sum().reset_index()\n",
    "\n",
    "    # Ordenar los juegos por la cantidad de recomendaciones en orden descendente\n",
    "    juegos_ordenados = recomendaciones_por_juego.sort_values(by='recommend', ascending=False)\n",
    "\n",
    "    # Tomar los tres primeros lugares\n",
    "    primer_puesto = juegos_ordenados.iloc[0]['item_name']\n",
    "    segundo_puesto = juegos_ordenados.iloc[1]['item_name']\n",
    "    tercer_puesto = juegos_ordenados.iloc[2]['item_name']\n",
    "\n",
    "    # Crear el diccionario con los tres primeros lugares\n",
    "    top_tres = {\n",
    "        \"Puesto 1\": primer_puesto,\n",
    "        \"Puesto 2\": segundo_puesto,\n",
    "        \"Puesto 3\": tercer_puesto\n",
    "    }\n",
    "\n",
    "    return top_tres"
   ]
  },
  {
   "cell_type": "code",
   "execution_count": null,
   "metadata": {},
   "outputs": [
    {
     "data": {
      "text/plain": [
       "{'Puesto 1': 'Counter-Strike: Global Offensive',\n",
       " 'Puesto 2': \"Garry's Mod\",\n",
       " 'Puesto 3': 'Unturned'}"
      ]
     },
     "execution_count": 86,
     "metadata": {},
     "output_type": "execute_result"
    }
   ],
   "source": [
    "UsersRecommend(2012)"
   ]
  },
  {
   "cell_type": "markdown",
   "metadata": {},
   "source": [
    "Cuarta función\n",
    "- def UsersNotRecommend(año:int): Devuelve el top 3 de juegos MENOS recomendados por usuarios para el año dado. (reviews.recommend = False y comentarios negativos). Ejemplo de retorno: [{\"Puesto 1\" : X}, {\"Puesto 2\" : Y},{\"Puesto 3\" : Z}]"
   ]
  },
  {
   "cell_type": "code",
   "execution_count": null,
   "metadata": {},
   "outputs": [],
   "source": [
    "def UsersNotRecommend(año: int):\n",
    "    # Verificar si el año es igual a -1 y mostrar un mensaje personalizado\n",
    "    if año == -1:\n",
    "        return \"El año ingresado es -1, lo cual no es válido.\"\n",
    "\n",
    "    # Verificar que el año sea un número entero\n",
    "    if not isinstance(año, int):\n",
    "        return \"El año debe ser un número entero.\"\n",
    "\n",
    "    # Verificar que el año ingresado esté en la columna 'year_integer'\n",
    "    if año not in df_f3_4['year_integer'].unique():\n",
    "        return \"El año no se encuentra en la columna 'year_integer'.\"\n",
    "\n",
    "    # Filtrar el dataset para obtener solo las filas correspondientes al año dado\n",
    "    juegos_del_año = df_f3_4[df_f3_4['year_integer'] == año]\n",
    "\n",
    "    # Calcular la cantidad de recomendaciones para cada juego\n",
    "    recomendaciones_por_juego = juegos_del_año.groupby('item_name')['recommend'].sum().reset_index()\n",
    "\n",
    "    # Ordenar los juegos por la cantidad de recomendaciones en orden descendente\n",
    "    juegos_ordenados = recomendaciones_por_juego.sort_values(by='recommend', ascending=True)\n",
    "\n",
    "    # Tomar los tres primeros lugares\n",
    "    ultimo_puesto = juegos_ordenados.iloc[0]['item_name']\n",
    "    penultimo_puesto = juegos_ordenados.iloc[1]['item_name']\n",
    "    antepenultimo_puesto = juegos_ordenados.iloc[2]['item_name']\n",
    "\n",
    "    # Crear el diccionario con los tres primeros lugares\n",
    "    ultimos_tres = {\n",
    "        \"Puesto 1\": ultimo_puesto,\n",
    "        \"Puesto 2\": penultimo_puesto,\n",
    "        \"Puesto 3\": antepenultimo_puesto\n",
    "    }\n",
    "\n",
    "    return ultimos_tres"
   ]
  },
  {
   "cell_type": "code",
   "execution_count": null,
   "metadata": {},
   "outputs": [
    {
     "data": {
      "text/plain": [
       "{'Puesto 1': 'Pixel Puzzles: Japan',\n",
       " 'Puesto 2': 'James Cameron’s Avatar™: The Game',\n",
       " 'Puesto 3': 'Zero Punctuation: Hatfall - Hatters Gonna Hat Edition'}"
      ]
     },
     "execution_count": 143,
     "metadata": {},
     "output_type": "execute_result"
    }
   ],
   "source": [
    "UsersNotRecommend(2012)"
   ]
  },
  {
   "cell_type": "markdown",
   "metadata": {},
   "source": [
    "Previo a la quinta función, se realiza en Análisis de sentimiento"
   ]
  },
  {
   "cell_type": "code",
   "execution_count": null,
   "metadata": {},
   "outputs": [],
   "source": [
    "# Crear una instancia del analizador de sentimientos\n",
    "sia = SentimentIntensityAnalyzer()\n",
    "\n",
    "# Supongamos que df_reviews2 es tu DataFrame y 'reviews' es la columna que quieres analizar\n",
    "for index, row in dfresenias_final.iterrows():\n",
    "    text = str(row['review'])\n",
    "    sentiment_scores = sia.polarity_scores(text)\n",
    "\n",
    "    # Extraer los puntajes de sentimiento\n",
    "    compound_score = sentiment_scores['compound']\n",
    "\n",
    "    # Puedes hacer algo con el puntaje compuesto aquí\n",
    "    if compound_score >= 0.05:\n",
    "        sentiment_label = 'Positivo'\n",
    "    elif compound_score <= -0.05:\n",
    "        sentiment_label = 'Negativo'\n",
    "    else:\n",
    "        sentiment_label = 'Neutral'\n",
    "\n",
    "    # Guardar el resultado en una nueva columna o hacer lo que necesites\n",
    "    dfresenias_final.at[index, 'sentiment_analysis'] = sentiment_label\n",
    "\n",
    "# Ahora, tu DataFrame df_reviews tiene una nueva columna llamada 'sentiment' con las etiquetas de sentimiento\n",
    "\n",
    "value_counts = dfresenias_final['sentiment_analysis'].value_counts()\n",
    "\n",
    "# Create a bar plot\n",
    "plt.bar(value_counts.index, value_counts.values)\n",
    "\n",
    "# Set labels and title\n",
    "plt.xlabel('Values')\n",
    "plt.ylabel('Frequency')\n",
    "plt.title('Bar Plot of Values')\n",
    "\n",
    "# Show the plot\n",
    "plt.show()"
   ]
  },
  {
   "cell_type": "code",
   "execution_count": null,
   "metadata": {},
   "outputs": [],
   "source": [
    "# Fusionar los DataFrames con sufijos\n",
    "df_final = pd.merge(df_juegos_final, merged_df, on='item_id', how='inner', suffixes=('_left', '_right'))"
   ]
  },
  {
   "cell_type": "code",
   "execution_count": null,
   "metadata": {},
   "outputs": [],
   "source": [
    "df_final.to_csv(\"df_final.csv\")"
   ]
  },
  {
   "cell_type": "code",
   "execution_count": null,
   "metadata": {},
   "outputs": [
    {
     "data": {
      "text/plain": [
       "(2725615, 13)"
      ]
     },
     "execution_count": 61,
     "metadata": {},
     "output_type": "execute_result"
    }
   ],
   "source": [
    "df_final.shape"
   ]
  },
  {
   "cell_type": "code",
   "execution_count": null,
   "metadata": {},
   "outputs": [],
   "source": [
    "df_final.dropna(inplace=True)"
   ]
  },
  {
   "cell_type": "code",
   "execution_count": null,
   "metadata": {},
   "outputs": [],
   "source": [
    "df_final['year'] = df_final['release_date'].dt.year\n"
   ]
  },
  {
   "cell_type": "code",
   "execution_count": null,
   "metadata": {},
   "outputs": [],
   "source": [
    "df_f5 = df_final"
   ]
  },
  {
   "cell_type": "markdown",
   "metadata": {},
   "source": [
    "Quinta función\n",
    "- def sentiment_analysis( año : int ): Según el año de lanzamiento, se devuelve una lista con la cantidad de registros de reseñas de usuarios que se encuentren categorizados con un análisis de sentimiento. Ejemplo de retorno: {Negative = 182, Neutral = 120, Positive = 278}"
   ]
  },
  {
   "cell_type": "code",
   "execution_count": null,
   "metadata": {},
   "outputs": [],
   "source": [
    "def sentiment_analysis(año : int):\n",
    "    # Filtrar el DataFrame por el año proporcionado\n",
    "    df_filtered = df_f5[df_f5['year'] == año]\n",
    "    \n",
    "    # Contar la cantidad de registros por cada análisis de sentimiento\n",
    "    resultados = df_filtered['sentiment_analysis'].value_counts()\n",
    "    \n",
    "    # Si algún análisis de sentimiento está ausente, añádelo con 0\n",
    "    for sentimiento in ['Negativo', 'Neutral', 'Positivo']:\n",
    "        if sentimiento not in resultados:\n",
    "            resultados[sentimiento] = 0\n",
    "    \n",
    "    # Almacenar los resultados en una lista de tuplas\n",
    "    resultados_lista = [(sentimiento, cantidad) for sentimiento, cantidad in resultados.items()]\n",
    "    \n",
    "    return resultados_lista"
   ]
  },
  {
   "cell_type": "code",
   "execution_count": null,
   "metadata": {},
   "outputs": [],
   "source": [
    "sentiment_analysis(2011)"
   ]
  },
  {
   "cell_type": "markdown",
   "metadata": {},
   "source": [
    "EDA"
   ]
  },
  {
   "cell_type": "markdown",
   "metadata": {},
   "source": [
    "\n",
    "- Se buscan outliers en variables de cantidad, solo se encuentra en 'playtime_forever' usando .describe() y se eliminan los mayores a 6500 horas de juego ya que es muy poco probable que alguien dedique tantas horas de juego diarias a lo largo de 5 años"
   ]
  },
  {
   "cell_type": "code",
   "execution_count": null,
   "metadata": {},
   "outputs": [
    {
     "data": {
      "text/html": [
       "<div>\n",
       "<style scoped>\n",
       "    .dataframe tbody tr th:only-of-type {\n",
       "        vertical-align: middle;\n",
       "    }\n",
       "\n",
       "    .dataframe tbody tr th {\n",
       "        vertical-align: top;\n",
       "    }\n",
       "\n",
       "    .dataframe thead th {\n",
       "        text-align: right;\n",
       "    }\n",
       "</style>\n",
       "<table border=\"1\" class=\"dataframe\">\n",
       "  <thead>\n",
       "    <tr style=\"text-align: right;\">\n",
       "      <th></th>\n",
       "      <th>Unnamed: 0</th>\n",
       "      <th>genres</th>\n",
       "      <th>title</th>\n",
       "      <th>release_date</th>\n",
       "      <th>reviews_url</th>\n",
       "      <th>id</th>\n",
       "      <th>user_id</th>\n",
       "      <th>steam_id</th>\n",
       "      <th>item_id</th>\n",
       "      <th>item_name</th>\n",
       "      <th>playtime_forever</th>\n",
       "    </tr>\n",
       "  </thead>\n",
       "  <tbody>\n",
       "    <tr>\n",
       "      <th>15</th>\n",
       "      <td>15</td>\n",
       "      <td>['Free to Play', 'Indie', 'Simulation', 'Sports']</td>\n",
       "      <td>SNOW - Lifetime Pack</td>\n",
       "      <td>2018-01-03</td>\n",
       "      <td>http://steamcommunity.com/app/774279/reviews/?...</td>\n",
       "      <td>774279</td>\n",
       "      <td>NaN</td>\n",
       "      <td>NaN</td>\n",
       "      <td>219830.0</td>\n",
       "      <td>King Arthur's Gold</td>\n",
       "      <td>33460.0</td>\n",
       "    </tr>\n",
       "    <tr>\n",
       "      <th>17</th>\n",
       "      <td>17</td>\n",
       "      <td>['Racing', 'Simulation', 'Sports']</td>\n",
       "      <td>RC Plane 3 - Canyon Scenario</td>\n",
       "      <td>2017-12-22</td>\n",
       "      <td>http://steamcommunity.com/app/775880/reviews/?...</td>\n",
       "      <td>775880</td>\n",
       "      <td>NaN</td>\n",
       "      <td>NaN</td>\n",
       "      <td>211820.0</td>\n",
       "      <td>Starbound</td>\n",
       "      <td>31000.0</td>\n",
       "    </tr>\n",
       "    <tr>\n",
       "      <th>24</th>\n",
       "      <td>24</td>\n",
       "      <td>['Action']</td>\n",
       "      <td>Twisted Enhanced Edition</td>\n",
       "      <td>2018-01-01</td>\n",
       "      <td>http://steamcommunity.com/app/690410/reviews/?...</td>\n",
       "      <td>690410</td>\n",
       "      <td>NaN</td>\n",
       "      <td>NaN</td>\n",
       "      <td>298630.0</td>\n",
       "      <td>The Escapists</td>\n",
       "      <td>5063.0</td>\n",
       "    </tr>\n",
       "    <tr>\n",
       "      <th>26</th>\n",
       "      <td>26</td>\n",
       "      <td>['Action', 'Casual', 'Indie', 'Massively Multi...</td>\n",
       "      <td>Tactics Forever</td>\n",
       "      <td>2018-01-01</td>\n",
       "      <td>http://steamcommunity.com/app/413120/reviews/?...</td>\n",
       "      <td>413120</td>\n",
       "      <td>NaN</td>\n",
       "      <td>NaN</td>\n",
       "      <td>302590.0</td>\n",
       "      <td>Of Guards And Thieves</td>\n",
       "      <td>9040.0</td>\n",
       "    </tr>\n",
       "    <tr>\n",
       "      <th>40</th>\n",
       "      <td>40</td>\n",
       "      <td>['Action']</td>\n",
       "      <td>Advent Rising</td>\n",
       "      <td>2005-08-09</td>\n",
       "      <td>http://steamcommunity.com/app/3800/reviews/?br...</td>\n",
       "      <td>3800</td>\n",
       "      <td>NaN</td>\n",
       "      <td>NaN</td>\n",
       "      <td>214850.0</td>\n",
       "      <td>GameMaker: Studio</td>\n",
       "      <td>10617.0</td>\n",
       "    </tr>\n",
       "    <tr>\n",
       "      <th>...</th>\n",
       "      <td>...</td>\n",
       "      <td>...</td>\n",
       "      <td>...</td>\n",
       "      <td>...</td>\n",
       "      <td>...</td>\n",
       "      <td>...</td>\n",
       "      <td>...</td>\n",
       "      <td>...</td>\n",
       "      <td>...</td>\n",
       "      <td>...</td>\n",
       "      <td>...</td>\n",
       "    </tr>\n",
       "    <tr>\n",
       "      <th>28511</th>\n",
       "      <td>28511</td>\n",
       "      <td>['Action', 'Adventure', 'Casual', 'Indie', 'Ma...</td>\n",
       "      <td>PLAYERUNKN4WN: Zombie</td>\n",
       "      <td>2018-01-01</td>\n",
       "      <td>http://steamcommunity.com/app/737750/reviews/?...</td>\n",
       "      <td>737750</td>\n",
       "      <td>NaN</td>\n",
       "      <td>NaN</td>\n",
       "      <td>730.0</td>\n",
       "      <td>Counter-Strike: Global Offensive</td>\n",
       "      <td>13557.0</td>\n",
       "    </tr>\n",
       "    <tr>\n",
       "      <th>28521</th>\n",
       "      <td>28521</td>\n",
       "      <td>['Indie']</td>\n",
       "      <td>NeoBalls</td>\n",
       "      <td>2018-01-03</td>\n",
       "      <td>http://steamcommunity.com/app/771610/reviews/?...</td>\n",
       "      <td>771610</td>\n",
       "      <td>NaN</td>\n",
       "      <td>NaN</td>\n",
       "      <td>4000.0</td>\n",
       "      <td>Garry's Mod</td>\n",
       "      <td>7933.0</td>\n",
       "    </tr>\n",
       "    <tr>\n",
       "      <th>28527</th>\n",
       "      <td>28527</td>\n",
       "      <td>['Action']</td>\n",
       "      <td>Deathmatch Classic</td>\n",
       "      <td>2001-06-01</td>\n",
       "      <td>http://steamcommunity.com/app/40/reviews/?brow...</td>\n",
       "      <td>40</td>\n",
       "      <td>NaN</td>\n",
       "      <td>NaN</td>\n",
       "      <td>105600.0</td>\n",
       "      <td>Terraria</td>\n",
       "      <td>20961.0</td>\n",
       "    </tr>\n",
       "    <tr>\n",
       "      <th>28532</th>\n",
       "      <td>28532</td>\n",
       "      <td>['Action', 'Casual', 'Indie']</td>\n",
       "      <td>Chicken Shoot Gold</td>\n",
       "      <td>2003-11-01</td>\n",
       "      <td>http://steamcommunity.com/app/259340/reviews/?...</td>\n",
       "      <td>259340</td>\n",
       "      <td>NaN</td>\n",
       "      <td>NaN</td>\n",
       "      <td>730.0</td>\n",
       "      <td>Counter-Strike: Global Offensive</td>\n",
       "      <td>14257.0</td>\n",
       "    </tr>\n",
       "    <tr>\n",
       "      <th>28547</th>\n",
       "      <td>28547</td>\n",
       "      <td>['Casual', 'Indie']</td>\n",
       "      <td>EXIT 2 - Directions</td>\n",
       "      <td>2017-09-02</td>\n",
       "      <td>http://steamcommunity.com/app/658870/reviews/?...</td>\n",
       "      <td>658870</td>\n",
       "      <td>NaN</td>\n",
       "      <td>NaN</td>\n",
       "      <td>252950.0</td>\n",
       "      <td>Rocket League</td>\n",
       "      <td>11464.0</td>\n",
       "    </tr>\n",
       "  </tbody>\n",
       "</table>\n",
       "<p>1258 rows × 11 columns</p>\n",
       "</div>"
      ],
      "text/plain": [
       "       Unnamed: 0                                             genres  \\\n",
       "15             15  ['Free to Play', 'Indie', 'Simulation', 'Sports']   \n",
       "17             17                 ['Racing', 'Simulation', 'Sports']   \n",
       "24             24                                         ['Action']   \n",
       "26             26  ['Action', 'Casual', 'Indie', 'Massively Multi...   \n",
       "40             40                                         ['Action']   \n",
       "...           ...                                                ...   \n",
       "28511       28511  ['Action', 'Adventure', 'Casual', 'Indie', 'Ma...   \n",
       "28521       28521                                          ['Indie']   \n",
       "28527       28527                                         ['Action']   \n",
       "28532       28532                      ['Action', 'Casual', 'Indie']   \n",
       "28547       28547                                ['Casual', 'Indie']   \n",
       "\n",
       "                              title release_date  \\\n",
       "15             SNOW - Lifetime Pack   2018-01-03   \n",
       "17     RC Plane 3 - Canyon Scenario   2017-12-22   \n",
       "24         Twisted Enhanced Edition   2018-01-01   \n",
       "26                  Tactics Forever   2018-01-01   \n",
       "40                    Advent Rising   2005-08-09   \n",
       "...                             ...          ...   \n",
       "28511         PLAYERUNKN4WN: Zombie   2018-01-01   \n",
       "28521                      NeoBalls   2018-01-03   \n",
       "28527            Deathmatch Classic   2001-06-01   \n",
       "28532            Chicken Shoot Gold   2003-11-01   \n",
       "28547           EXIT 2 - Directions   2017-09-02   \n",
       "\n",
       "                                             reviews_url      id  user_id  \\\n",
       "15     http://steamcommunity.com/app/774279/reviews/?...  774279      NaN   \n",
       "17     http://steamcommunity.com/app/775880/reviews/?...  775880      NaN   \n",
       "24     http://steamcommunity.com/app/690410/reviews/?...  690410      NaN   \n",
       "26     http://steamcommunity.com/app/413120/reviews/?...  413120      NaN   \n",
       "40     http://steamcommunity.com/app/3800/reviews/?br...    3800      NaN   \n",
       "...                                                  ...     ...      ...   \n",
       "28511  http://steamcommunity.com/app/737750/reviews/?...  737750      NaN   \n",
       "28521  http://steamcommunity.com/app/771610/reviews/?...  771610      NaN   \n",
       "28527  http://steamcommunity.com/app/40/reviews/?brow...      40      NaN   \n",
       "28532  http://steamcommunity.com/app/259340/reviews/?...  259340      NaN   \n",
       "28547  http://steamcommunity.com/app/658870/reviews/?...  658870      NaN   \n",
       "\n",
       "       steam_id   item_id                         item_name  playtime_forever  \n",
       "15          NaN  219830.0                King Arthur's Gold           33460.0  \n",
       "17          NaN  211820.0                         Starbound           31000.0  \n",
       "24          NaN  298630.0                     The Escapists            5063.0  \n",
       "26          NaN  302590.0             Of Guards And Thieves            9040.0  \n",
       "40          NaN  214850.0                 GameMaker: Studio           10617.0  \n",
       "...         ...       ...                               ...               ...  \n",
       "28511       NaN     730.0  Counter-Strike: Global Offensive           13557.0  \n",
       "28521       NaN    4000.0                       Garry's Mod            7933.0  \n",
       "28527       NaN  105600.0                          Terraria           20961.0  \n",
       "28532       NaN     730.0  Counter-Strike: Global Offensive           14257.0  \n",
       "28547       NaN  252950.0                     Rocket League           11464.0  \n",
       "\n",
       "[1258 rows x 11 columns]"
      ]
     },
     "execution_count": 195,
     "metadata": {},
     "output_type": "execute_result"
    }
   ],
   "source": [
    "filtered_values = df_1[df_1['playtime_forever'] > 5000]\n",
    "\n",
    "filtered_values\n"
   ]
  },
  {
   "cell_type": "code",
   "execution_count": null,
   "metadata": {},
   "outputs": [],
   "source": [
    "df_1.describe(include='all') "
   ]
  },
  {
   "cell_type": "code",
   "execution_count": null,
   "metadata": {},
   "outputs": [],
   "source": [
    "df_f3.describe(include='all') "
   ]
  },
  {
   "cell_type": "code",
   "execution_count": null,
   "metadata": {},
   "outputs": [],
   "source": [
    "df_f5.describe(include='all') "
   ]
  },
  {
   "cell_type": "code",
   "execution_count": null,
   "metadata": {},
   "outputs": [],
   "source": [
    "df_1_2 = df_f1_2[df_f1_2['playtime_forever'] <= 6500]"
   ]
  },
  {
   "cell_type": "markdown",
   "metadata": {},
   "source": [
    "Los 3 datasets están limpios"
   ]
  },
  {
   "cell_type": "code",
   "execution_count": null,
   "metadata": {},
   "outputs": [],
   "source": [
    "df_1_2\n",
    "df_f3_4\n",
    "df_f5"
   ]
  },
  {
   "cell_type": "markdown",
   "metadata": {},
   "source": [
    "Modelo de ML"
   ]
  },
  {
   "cell_type": "markdown",
   "metadata": {},
   "source": [
    "- Se prueba con una nube de palabras, pero la cercanía entre los juegos los pone o en la misma saga o en juegos que si bien tienen algo en común en la temárica, realmente no comparten mucho en cuanto al contenido, estructura y otros rasgos del juego"
   ]
  },
  {
   "cell_type": "code",
   "execution_count": null,
   "metadata": {},
   "outputs": [],
   "source": [
    "def get_matching_words(input_letters, column_name):\n",
    "    matching_words = []\n",
    "\n",
    "    for word in df_f1_2[column_name]:\n",
    "        if word[:4] == input_letters:\n",
    "            matching_words.append(word)\n",
    "\n",
    "    return matching_words\n",
    "\n",
    "# Assuming 'df' is your DataFrame and 'word_column' is the name of the column with words\n",
    "# Replace 'df' and 'word_column' with your actual DataFrame and column name.\n",
    "\n",
    "\n",
    "get_matching_words('Kill', 'title')\n",
    "\n"
   ]
  },
  {
   "cell_type": "markdown",
   "metadata": {},
   "source": [
    "- Se limpia un nuevo dataset (el relacionado a juegos), creado especialmente para el modelo de Machine Learning, debido a que necesita ser uno compacto y con rasgos muy particulares para eficientar su uso"
   ]
  },
  {
   "cell_type": "code",
   "execution_count": null,
   "metadata": {},
   "outputs": [],
   "source": [
    "df_juegos_ml = df_juegos_final"
   ]
  },
  {
   "cell_type": "code",
   "execution_count": null,
   "metadata": {},
   "outputs": [
    {
     "data": {
      "text/plain": [
       "Index(['publisher', 'genres', 'app_name', 'title', 'url', 'release_date',\n",
       "       'tags', 'reviews_url', 'discount_price', 'specs', 'price',\n",
       "       'early_access', 'id', 'metascore', 'developer', 'user_id', 'steam_id',\n",
       "       'items_count'],\n",
       "      dtype='object')"
      ]
     },
     "execution_count": 234,
     "metadata": {},
     "output_type": "execute_result"
    }
   ],
   "source": [
    "df_juegos_ml.columns"
   ]
  },
  {
   "cell_type": "code",
   "execution_count": null,
   "metadata": {},
   "outputs": [],
   "source": [
    "# Obtén el recuento de NaN por columna\n",
    "nan_count = df_juegos_ml.isna().sum()\n",
    "\n",
    "# Muestra el recuento de NaN por columna\n",
    "print(nan_count)"
   ]
  },
  {
   "cell_type": "code",
   "execution_count": null,
   "metadata": {},
   "outputs": [],
   "source": [
    "df_juegos_ml = df_juegos_ml.drop(['app_name', 'publisher', 'url', 'release_date', 'reviews_url', 'discount_price', 'price', 'early_access', 'id', 'metascore', 'developer', 'steam_id', 'items_count'], axis=1)"
   ]
  },
  {
   "cell_type": "code",
   "execution_count": null,
   "metadata": {},
   "outputs": [],
   "source": [
    "df_juegos_ml = df_juegos_ml.drop(['tags', 'user_id'], axis=1)"
   ]
  },
  {
   "cell_type": "code",
   "execution_count": null,
   "metadata": {},
   "outputs": [],
   "source": [
    "df_juegos_ml = df_juegos_ml.drop(['Unnamed: 0.2', 'Unnamed: 0.2', 'Unnamed: 0'], axis=1)"
   ]
  },
  {
   "cell_type": "code",
   "execution_count": null,
   "metadata": {},
   "outputs": [
    {
     "data": {
      "text/plain": [
       "Index(['Unnamed: 0.2', 'Unnamed: 0.1', 'Unnamed: 0', 'genres', 'title'], dtype='object')"
      ]
     },
     "execution_count": 5,
     "metadata": {},
     "output_type": "execute_result"
    }
   ],
   "source": [
    "df_juegos_ml.columns"
   ]
  },
  {
   "cell_type": "code",
   "execution_count": null,
   "metadata": {},
   "outputs": [],
   "source": [
    "df_juegos_ml.dropna(subset=['genres', 'title', 'tags', 'specs', 'user_id'], inplace=True)\n"
   ]
  },
  {
   "cell_type": "code",
   "execution_count": null,
   "metadata": {},
   "outputs": [],
   "source": [
    "df_juegos_ml.dropna(subset=['genres', 'title', 'tags', 'specs'], inplace=True)\n"
   ]
  },
  {
   "cell_type": "code",
   "execution_count": null,
   "metadata": {},
   "outputs": [
    {
     "name": "stdout",
     "output_type": "stream",
     "text": [
      "28520\n"
     ]
    }
   ],
   "source": [
    "unique_values = df_juegos_ml['title'].unique()\n",
    "\n",
    "# Print the unique values\n",
    "print(len(unique_values))"
   ]
  },
  {
   "cell_type": "code",
   "execution_count": null,
   "metadata": {},
   "outputs": [
    {
     "data": {
      "text/plain": [
       "(28543, 6)"
      ]
     },
     "execution_count": 4,
     "metadata": {},
     "output_type": "execute_result"
    }
   ],
   "source": [
    "df_juegos_ml.shape"
   ]
  },
  {
   "cell_type": "code",
   "execution_count": null,
   "metadata": {},
   "outputs": [],
   "source": [
    "df_juegos_ml.to_csv(\"df_juegos_ml.csv\")"
   ]
  },
  {
   "cell_type": "code",
   "execution_count": null,
   "metadata": {},
   "outputs": [],
   "source": [
    "df_juegos_ml = pd.read_csv(\"df_juegos_ml.csv\")"
   ]
  },
  {
   "cell_type": "markdown",
   "metadata": {},
   "source": [
    "- Se configura el modelo de Machine Learning basándonos en la similaridad del coseno"
   ]
  },
  {
   "cell_type": "code",
   "execution_count": null,
   "metadata": {},
   "outputs": [],
   "source": [
    "from sklearn.feature_extraction.text import TfidfVectorizer\n",
    "from sklearn.metrics.pairwise import cosine_similarity\n",
    "from sklearn.decomposition import IncrementalPCA"
   ]
  },
  {
   "cell_type": "code",
   "execution_count": null,
   "metadata": {},
   "outputs": [],
   "source": [
    "# Paso 1: Preprocesamiento y vectorización\n",
    "textos = df_juegos_ml['genres']\n",
    "vectorizer = TfidfVectorizer()\n",
    "matriz_tfidf = vectorizer.fit_transform(textos)\n",
    "\n",
    "# Paso 2: Reducción de dimensionalidad con PCA\n",
    "ipca = IncrementalPCA(n_components=25)  # Por ejemplo, reduce a 50 componentes\n",
    "matriz_ipca = ipca.fit_transform(matriz_tfidf)\n",
    "\n",
    "\n",
    "# Paso 3: Cálculo de similitud del coseno después de PCA\n",
    "similitud_pca = cosine_similarity(matriz_ipca)\n"
   ]
  },
  {
   "cell_type": "code",
   "execution_count": null,
   "metadata": {},
   "outputs": [],
   "source": [
    "similitud = similitud_pca"
   ]
  },
  {
   "cell_type": "code",
   "execution_count": null,
   "metadata": {},
   "outputs": [],
   "source": [
    "def obtener_recomendaciones(titulo, n=5):\n",
    "    indice_titulo = df_juegos_ml[df_juegos_ml['title'] == titulo].index[0]\n",
    "    similitudes_titulo = similitud[indice_titulo]\n",
    "    indices_recomendaciones = similitudes_titulo.argsort()[-n-1:-1][::-1]\n",
    "    recomendaciones = df_juegos_ml.loc[indices_recomendaciones, 'title']\n",
    "    \n",
    "    # Convierte la serie en un diccionario\n",
    "    recomendaciones_dict = recomendaciones.to_dict()\n",
    "\n",
    "    return recomendaciones_dict"
   ]
  },
  {
   "cell_type": "code",
   "execution_count": null,
   "metadata": {},
   "outputs": [
    {
     "data": {
      "text/html": [
       "<div>\n",
       "<style scoped>\n",
       "    .dataframe tbody tr th:only-of-type {\n",
       "        vertical-align: middle;\n",
       "    }\n",
       "\n",
       "    .dataframe tbody tr th {\n",
       "        vertical-align: top;\n",
       "    }\n",
       "\n",
       "    .dataframe thead th {\n",
       "        text-align: right;\n",
       "    }\n",
       "</style>\n",
       "<table border=\"1\" class=\"dataframe\">\n",
       "  <thead>\n",
       "    <tr style=\"text-align: right;\">\n",
       "      <th></th>\n",
       "      <th>Unnamed: 0</th>\n",
       "      <th>genres</th>\n",
       "      <th>title</th>\n",
       "      <th>specs</th>\n",
       "    </tr>\n",
       "  </thead>\n",
       "  <tbody>\n",
       "    <tr>\n",
       "      <th>15320</th>\n",
       "      <td>105774</td>\n",
       "      <td>['Free to Play']</td>\n",
       "      <td>The Elder Scrolls®: Legends™</td>\n",
       "      <td>['Single-player', 'Multi-player', 'Online Mult...</td>\n",
       "    </tr>\n",
       "  </tbody>\n",
       "</table>\n",
       "</div>"
      ],
      "text/plain": [
       "       Unnamed: 0            genres                         title  \\\n",
       "15320      105774  ['Free to Play']  The Elder Scrolls®: Legends™   \n",
       "\n",
       "                                                   specs  \n",
       "15320  ['Single-player', 'Multi-player', 'Online Mult...  "
      ]
     },
     "execution_count": 28,
     "metadata": {},
     "output_type": "execute_result"
    }
   ],
   "source": [
    "filas_seleccionadas = df_juegos_final[df_juegos_final['title'] == 'The Elder Scrolls®: Legends™']\n",
    "filas_seleccionadas\n"
   ]
  },
  {
   "cell_type": "markdown",
   "metadata": {},
   "source": [
    "Resultados de ejemplo 1:"
   ]
  },
  {
   "cell_type": "code",
   "execution_count": null,
   "metadata": {},
   "outputs": [],
   "source": [
    "'''\n",
    "0\t    88310\t['Action', 'Casual', 'Indie', 'Simulation', 'S...'\t      Lost Summoner Kitty\t                        ['Single-player']\n",
    "\n",
    "11489\t101249\t['Action', 'Casual', 'Indie', 'Simulation', 'S...'\t       Wooden Battles      \t                        ['Single-player']\n",
    "10697\t100329\t['Action', 'Casual', 'Simulation', 'Strategy']\t   Trivia Vault: Video Game Trivia Deluxe\t            ['Single-player']\n",
    "2351\t90729\t['Casual', 'Indie', 'Simulation', 'Strategy']\t      Wildlife Park 2 - Farm World \t                    ['Single-player']\n",
    "8991\t98347\t['Casual', 'Indie', 'Simulation', 'Strategy']\t    Weather Lord: In Search of the Shaman\t            ['Single-player']\n",
    "2438\t90819\t['Casual', 'Indie', 'Simulation', 'Strategy']\t            GamersGoMakers\t                            ['Single-player']\n",
    "'''"
   ]
  },
  {
   "cell_type": "markdown",
   "metadata": {},
   "source": [
    "Resultados del ejemplo 2:"
   ]
  },
  {
   "cell_type": "code",
   "execution_count": null,
   "metadata": {},
   "outputs": [],
   "source": [
    "'''\n",
    "1\t    88311\t['Free to Play', 'Indie', 'RPG', 'Strategy']\t              Ironbound\t                            ['Single-player', 'Multi-player', 'Online Mult...\n",
    "\n",
    "17863\t108873\t['Adventure', 'Free to Play', 'RPG', 'Strategy']\t          Spellstone\t                        ['Single-player', 'Online Multi-Player', 'Cros...\n",
    "15587\t106116\t['Adventure', 'Free to Play', 'RPG', 'Strategy']\tAnimation Throwdown: The Quest for Cards\t    ['Single-player', 'Online Multi-Player', 'Cros...\n",
    "2351\t90729\t['Casual', 'Indie', 'Simulation', 'Strategy']\t        Wildlife Park 2 - Farm World \t            ['Single-player']\n",
    "12405\t102331\t['Free to Play', 'Strategy']\t                            Yu-Gi-Oh! Duel Links                    ['Single-player', 'Online Multi-Player', 'Cros...\n",
    "15320\t105774\t['Free to Play']\t                                   The Elder Scrolls®: Legends™                 ['Single-player', 'Multi-player', 'Online Mult...\n",
    "'''"
   ]
  },
  {
   "cell_type": "markdown",
   "metadata": {},
   "source": [
    "Sin embargo, este modelo necesita mucha memoria RAM, por lo que se opta por uno menos pesado porque se va a deployar en Render\n",
    "- Primero se limpia el dataframe para luego ir al modelo y finalmente a la función"
   ]
  },
  {
   "cell_type": "code",
   "execution_count": null,
   "metadata": {},
   "outputs": [
    {
     "data": {
      "text/html": [
       "<div>\n",
       "<style scoped>\n",
       "    .dataframe tbody tr th:only-of-type {\n",
       "        vertical-align: middle;\n",
       "    }\n",
       "\n",
       "    .dataframe tbody tr th {\n",
       "        vertical-align: top;\n",
       "    }\n",
       "\n",
       "    .dataframe thead th {\n",
       "        text-align: right;\n",
       "    }\n",
       "</style>\n",
       "<table border=\"1\" class=\"dataframe\">\n",
       "  <thead>\n",
       "    <tr style=\"text-align: right;\">\n",
       "      <th></th>\n",
       "      <th>Unnamed: 0.2</th>\n",
       "      <th>Unnamed: 0</th>\n",
       "      <th>Unnamed: 0.1</th>\n",
       "      <th>genres</th>\n",
       "      <th>title</th>\n",
       "      <th>genres_encoded</th>\n",
       "    </tr>\n",
       "  </thead>\n",
       "  <tbody>\n",
       "    <tr>\n",
       "      <th>0</th>\n",
       "      <td>0</td>\n",
       "      <td>0</td>\n",
       "      <td>0</td>\n",
       "      <td>['action', 'casual', 'indie', 'simulation', 's...</td>\n",
       "      <td>Lost summoner kitty</td>\n",
       "      <td>225</td>\n",
       "    </tr>\n",
       "  </tbody>\n",
       "</table>\n",
       "</div>"
      ],
      "text/plain": [
       "   Unnamed: 0.2  Unnamed: 0  Unnamed: 0.1  \\\n",
       "0             0           0             0   \n",
       "\n",
       "                                              genres                title  \\\n",
       "0  ['action', 'casual', 'indie', 'simulation', 's...  Lost summoner kitty   \n",
       "\n",
       "   genres_encoded  \n",
       "0             225  "
      ]
     },
     "execution_count": 55,
     "metadata": {},
     "output_type": "execute_result"
    }
   ],
   "source": [
    "df_juegos_ml['title'] = df_juegos_ml['title'].str.capitalize()\n",
    "\n",
    "df_juegos_ml.head(1)"
   ]
  },
  {
   "cell_type": "code",
   "execution_count": null,
   "metadata": {},
   "outputs": [
    {
     "name": "stdout",
     "output_type": "stream",
     "text": [
      "genres              847\n",
      "title             28510\n",
      "genres_encoded      847\n",
      "dtype: int64\n"
     ]
    }
   ],
   "source": [
    "count_values = df_juegos_ml.nunique()\n",
    "\n",
    "print(count_values)"
   ]
  },
  {
   "cell_type": "code",
   "execution_count": null,
   "metadata": {},
   "outputs": [
    {
     "name": "stdout",
     "output_type": "stream",
     "text": [
      "La columna genres tiene valores duplicados.\n",
      "La columna title no tiene valores duplicados.\n",
      "La columna genres_encoded tiene valores duplicados.\n"
     ]
    }
   ],
   "source": [
    "for col in df_juegos_ml.columns:\n",
    "    has_duplicates = df_juegos_ml[col].duplicated().any()\n",
    "    if has_duplicates:\n",
    "        print(f'La columna {col} tiene valores duplicados.')\n",
    "    else:\n",
    "        print(f'La columna {col} no tiene valores duplicados.')"
   ]
  },
  {
   "cell_type": "code",
   "execution_count": null,
   "metadata": {},
   "outputs": [
    {
     "name": "stdout",
     "output_type": "stream",
     "text": [
      "genres            0\n",
      "title             0\n",
      "genres_encoded    0\n",
      "dtype: int64\n"
     ]
    }
   ],
   "source": [
    "nan_counts = df_juegos_ml.isna().sum()\n",
    "\n",
    "print(nan_counts)"
   ]
  },
  {
   "cell_type": "code",
   "execution_count": null,
   "metadata": {},
   "outputs": [],
   "source": [
    "df_juegos_ml = df_juegos_ml.drop(columns=['Unnamed: 0.3', 'Unnamed: 0.2', 'Unnamed: 0', 'Unnamed: 0.1'])"
   ]
  },
  {
   "cell_type": "code",
   "execution_count": null,
   "metadata": {},
   "outputs": [],
   "source": [
    "df_juegos_ml['title'] = df_juegos_ml['title'].str.strip()\n",
    "df_juegos_ml = df_juegos_ml.drop_duplicates(subset=['title'])\n"
   ]
  },
  {
   "cell_type": "code",
   "execution_count": null,
   "metadata": {},
   "outputs": [],
   "source": [
    "df_juegos_ml['title'] = df_juegos_ml['title'].astype(str)\n",
    "df_juegos_ml = df_juegos_ml.drop_duplicates(subset=['title'])\n"
   ]
  },
  {
   "cell_type": "code",
   "execution_count": null,
   "metadata": {},
   "outputs": [],
   "source": [
    "df_juegos_ml['title'].fillna('', inplace=True)\n",
    "df_juegos_ml = df_juegos_ml.drop_duplicates(subset=['title'])\n"
   ]
  },
  {
   "cell_type": "code",
   "execution_count": null,
   "metadata": {},
   "outputs": [],
   "source": [
    "df_juegos_ml['title'] = df_juegos_ml['title'].str.lower()\n",
    "df_juegos_ml = df_juegos_ml.drop_duplicates(subset=['title'])\n"
   ]
  },
  {
   "cell_type": "code",
   "execution_count": null,
   "metadata": {},
   "outputs": [],
   "source": [
    "df_juegos_ml = df_juegos_ml.drop_duplicates(subset=['title'])\n"
   ]
  },
  {
   "cell_type": "code",
   "execution_count": null,
   "metadata": {},
   "outputs": [],
   "source": [
    "df_juegos_ml.to_csv(\"df_juegos_ml.csv\")"
   ]
  },
  {
   "cell_type": "code",
   "execution_count": 3,
   "metadata": {},
   "outputs": [],
   "source": [
    "df_final = pd.read_csv('df_juegos_ml.csv')"
   ]
  },
  {
   "cell_type": "code",
   "execution_count": 2,
   "metadata": {},
   "outputs": [],
   "source": [
    "df_final = pd.read_csv(\"df_final.csv\")"
   ]
  },
  {
   "cell_type": "code",
   "execution_count": 5,
   "metadata": {},
   "outputs": [],
   "source": [
    "df_ml = df_final.drop(['Unnamed: 0', 'Unnamed: 0_left','release_date', 'reviews_url','id', 'item_name_left','playtime_forever', 'user_id','posted', 'recommend', 'sentiment_analysis'], axis=1)"
   ]
  },
  {
   "cell_type": "code",
   "execution_count": 12,
   "metadata": {},
   "outputs": [
    {
     "data": {
      "text/plain": [
       "(2318, 3)"
      ]
     },
     "execution_count": 12,
     "metadata": {},
     "output_type": "execute_result"
    }
   ],
   "source": [
    "df_ml = df_ml.drop_duplicates(subset='item_id')\n",
    "\n",
    "# Print the results\n",
    "df_ml.shape"
   ]
  },
  {
   "cell_type": "code",
   "execution_count": 13,
   "metadata": {},
   "outputs": [],
   "source": [
    "df_ml.to_csv(\"df_ml.csv\")"
   ]
  },
  {
   "cell_type": "markdown",
   "metadata": {},
   "source": [
    "Modelo de Machine Learning"
   ]
  },
  {
   "cell_type": "code",
   "execution_count": 21,
   "metadata": {},
   "outputs": [
    {
     "data": {
      "text/html": [
       "<style>#sk-container-id-1 {color: black;}#sk-container-id-1 pre{padding: 0;}#sk-container-id-1 div.sk-toggleable {background-color: white;}#sk-container-id-1 label.sk-toggleable__label {cursor: pointer;display: block;width: 100%;margin-bottom: 0;padding: 0.3em;box-sizing: border-box;text-align: center;}#sk-container-id-1 label.sk-toggleable__label-arrow:before {content: \"▸\";float: left;margin-right: 0.25em;color: #696969;}#sk-container-id-1 label.sk-toggleable__label-arrow:hover:before {color: black;}#sk-container-id-1 div.sk-estimator:hover label.sk-toggleable__label-arrow:before {color: black;}#sk-container-id-1 div.sk-toggleable__content {max-height: 0;max-width: 0;overflow: hidden;text-align: left;background-color: #f0f8ff;}#sk-container-id-1 div.sk-toggleable__content pre {margin: 0.2em;color: black;border-radius: 0.25em;background-color: #f0f8ff;}#sk-container-id-1 input.sk-toggleable__control:checked~div.sk-toggleable__content {max-height: 200px;max-width: 100%;overflow: auto;}#sk-container-id-1 input.sk-toggleable__control:checked~label.sk-toggleable__label-arrow:before {content: \"▾\";}#sk-container-id-1 div.sk-estimator input.sk-toggleable__control:checked~label.sk-toggleable__label {background-color: #d4ebff;}#sk-container-id-1 div.sk-label input.sk-toggleable__control:checked~label.sk-toggleable__label {background-color: #d4ebff;}#sk-container-id-1 input.sk-hidden--visually {border: 0;clip: rect(1px 1px 1px 1px);clip: rect(1px, 1px, 1px, 1px);height: 1px;margin: -1px;overflow: hidden;padding: 0;position: absolute;width: 1px;}#sk-container-id-1 div.sk-estimator {font-family: monospace;background-color: #f0f8ff;border: 1px dotted black;border-radius: 0.25em;box-sizing: border-box;margin-bottom: 0.5em;}#sk-container-id-1 div.sk-estimator:hover {background-color: #d4ebff;}#sk-container-id-1 div.sk-parallel-item::after {content: \"\";width: 100%;border-bottom: 1px solid gray;flex-grow: 1;}#sk-container-id-1 div.sk-label:hover label.sk-toggleable__label {background-color: #d4ebff;}#sk-container-id-1 div.sk-serial::before {content: \"\";position: absolute;border-left: 1px solid gray;box-sizing: border-box;top: 0;bottom: 0;left: 50%;z-index: 0;}#sk-container-id-1 div.sk-serial {display: flex;flex-direction: column;align-items: center;background-color: white;padding-right: 0.2em;padding-left: 0.2em;position: relative;}#sk-container-id-1 div.sk-item {position: relative;z-index: 1;}#sk-container-id-1 div.sk-parallel {display: flex;align-items: stretch;justify-content: center;background-color: white;position: relative;}#sk-container-id-1 div.sk-item::before, #sk-container-id-1 div.sk-parallel-item::before {content: \"\";position: absolute;border-left: 1px solid gray;box-sizing: border-box;top: 0;bottom: 0;left: 50%;z-index: -1;}#sk-container-id-1 div.sk-parallel-item {display: flex;flex-direction: column;z-index: 1;position: relative;background-color: white;}#sk-container-id-1 div.sk-parallel-item:first-child::after {align-self: flex-end;width: 50%;}#sk-container-id-1 div.sk-parallel-item:last-child::after {align-self: flex-start;width: 50%;}#sk-container-id-1 div.sk-parallel-item:only-child::after {width: 0;}#sk-container-id-1 div.sk-dashed-wrapped {border: 1px dashed gray;margin: 0 0.4em 0.5em 0.4em;box-sizing: border-box;padding-bottom: 0.4em;background-color: white;}#sk-container-id-1 div.sk-label label {font-family: monospace;font-weight: bold;display: inline-block;line-height: 1.2em;}#sk-container-id-1 div.sk-label-container {text-align: center;}#sk-container-id-1 div.sk-container {/* jupyter's `normalize.less` sets `[hidden] { display: none; }` but bootstrap.min.css set `[hidden] { display: none !important; }` so we also need the `!important` here to be able to override the default hidden behavior on the sphinx rendered scikit-learn.org. See: https://github.com/scikit-learn/scikit-learn/issues/21755 */display: inline-block !important;position: relative;}#sk-container-id-1 div.sk-text-repr-fallback {display: none;}</style><div id=\"sk-container-id-1\" class=\"sk-top-container\"><div class=\"sk-text-repr-fallback\"><pre>KNeighborsClassifier()</pre><b>In a Jupyter environment, please rerun this cell to show the HTML representation or trust the notebook. <br />On GitHub, the HTML representation is unable to render, please try loading this page with nbviewer.org.</b></div><div class=\"sk-container\" hidden><div class=\"sk-item\"><div class=\"sk-estimator sk-toggleable\"><input class=\"sk-toggleable__control sk-hidden--visually\" id=\"sk-estimator-id-1\" type=\"checkbox\" checked><label for=\"sk-estimator-id-1\" class=\"sk-toggleable__label sk-toggleable__label-arrow\">KNeighborsClassifier</label><div class=\"sk-toggleable__content\"><pre>KNeighborsClassifier()</pre></div></div></div></div></div>"
      ],
      "text/plain": [
       "KNeighborsClassifier()"
      ]
     },
     "execution_count": 21,
     "metadata": {},
     "output_type": "execute_result"
    }
   ],
   "source": [
    "\n",
    "import pandas as pd\n",
    "from sklearn.neighbors import KNeighborsClassifier\n",
    "from sklearn.preprocessing import LabelEncoder\n",
    "\n",
    "# Crear una instancia del codificador\n",
    "label_encoder = LabelEncoder()\n",
    "\n",
    "# Cargar los datos\n",
    "df_ml = pd.read_csv(\"df_ml.csv\")\n",
    "df_ml[\"genres_encoded\"] = label_encoder.fit_transform(df_ml[\"genres\"])\n",
    "\n",
    "# Crear un diccionario de los títulos asociados a cada item_id\n",
    "titles_by_item_id = {}\n",
    "for i in range(len(df_ml)):\n",
    "    titles_by_item_id[df_ml.loc[i, \"item_id\"]] = df_ml.loc[i, \"title\"]\n",
    "\n",
    "# Crear el modelo K-Nearest Neighbors\n",
    "k = 5\n",
    "model = KNeighborsClassifier(n_neighbors=k)\n",
    "\n",
    "# Entrenar el modelo\n",
    "model.fit(df_ml[['genres_encoded']], df_ml['title'])\n",
    "\n"
   ]
  },
  {
   "cell_type": "code",
   "execution_count": 22,
   "metadata": {},
   "outputs": [],
   "source": [
    "# Crear una función para obtener las recomendaciones\n",
    "def get_recommendations(item_id: int):\n",
    "    # Buscar el género codificado del juego proporcionado por el usuario\n",
    "    input_game = df_ml[df_ml[\"item_id\"] == item_id][\"genres_encoded\"].values[0]\n",
    "\n",
    "    # Encontrar los juegos más similares\n",
    "    _, indices = model.kneighbors([[input_game]])\n",
    "\n",
    "    # Obtener los títulos de los juegos similares\n",
    "    similar_games = [titles_by_item_id[df_ml.loc[i, \"item_id\"]] for i in indices[0]]\n",
    "\n",
    "    # Devolver un diccionario de los títulos\n",
    "    return {\"similar_games\": similar_games}"
   ]
  },
  {
   "cell_type": "code",
   "execution_count": 23,
   "metadata": {},
   "outputs": [
    {
     "name": "stderr",
     "output_type": "stream",
     "text": [
      "c:\\Users\\German\\AppData\\Local\\Programs\\Python\\Python311\\Lib\\site-packages\\sklearn\\base.py:464: UserWarning: X does not have valid feature names, but KNeighborsClassifier was fitted with feature names\n",
      "  warnings.warn(\n"
     ]
    },
    {
     "data": {
      "text/plain": [
       "{'similar_games': ['Lost Summoner Kitty',\n",
       "  'Crankies Workshop: Grizzbot Assembly',\n",
       "  'Trivia Vault: Mixed Trivia',\n",
       "  'World of Cinema - Directors Cut',\n",
       "  \"Trivia Vault: 1980's Trivia 2\"]}"
      ]
     },
     "execution_count": 23,
     "metadata": {},
     "output_type": "execute_result"
    }
   ],
   "source": [
    "get_recommendations(228440)"
   ]
  }
 ],
 "metadata": {
  "kernelspec": {
   "display_name": "Python 3",
   "language": "python",
   "name": "python3"
  },
  "language_info": {
   "codemirror_mode": {
    "name": "ipython",
    "version": 3
   },
   "file_extension": ".py",
   "mimetype": "text/x-python",
   "name": "python",
   "nbconvert_exporter": "python",
   "pygments_lexer": "ipython3",
   "version": "3.11.3"
  },
  "orig_nbformat": 4
 },
 "nbformat": 4,
 "nbformat_minor": 2
}
